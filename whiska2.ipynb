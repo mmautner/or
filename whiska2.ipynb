{
 "metadata": {
  "name": "",
  "signature": "sha256:d89787c30b8ae4d6033843bfdbae5a18f4ed9f23aca01df5244b81c04e63f999"
 },
 "nbformat": 3,
 "nbformat_minor": 0,
 "worksheets": [
  {
   "cells": [
    {
     "cell_type": "code",
     "collapsed": false,
     "input": [
      "import pulp\n",
      "from pprint import pprint"
     ],
     "language": "python",
     "metadata": {},
     "outputs": [],
     "prompt_number": 2
    },
    {
     "cell_type": "code",
     "collapsed": false,
     "input": [
      "# Creates a list of the Ingredients\n",
      "Ingredients = ['CHICKEN', 'BEEF', 'MUTTON', 'RICE', 'WHEAT', 'GEL']\n",
      "\n",
      "# A dictionary of the costs of each of the Ingredients is created\n",
      "costs = {'CHICKEN': 0.013,\n",
      "         'BEEF': 0.008,\n",
      "         'MUTTON': 0.010,\n",
      "         'RICE': 0.002,\n",
      "         'WHEAT': 0.005,\n",
      "         'GEL': 0.001}\n",
      "\n",
      "# A dictionary of the protein percent in each of the Ingredients is created\n",
      "proteinPercent = {'CHICKEN': 0.100,\n",
      "                  'BEEF': 0.200,\n",
      "                  'MUTTON': 0.150,\n",
      "                  'RICE': 0.000,\n",
      "                  'WHEAT': 0.040,\n",
      "                  'GEL': 0.000}\n",
      "\n",
      "# A dictionary of the fat percent in each of the Ingredients is created\n",
      "fatPercent = {'CHICKEN': 0.080,\n",
      "              'BEEF': 0.100,\n",
      "              'MUTTON': 0.110,\n",
      "              'RICE': 0.010,\n",
      "              'WHEAT': 0.010,\n",
      "              'GEL': 0.000}\n",
      "\n",
      "# A dictionary of the fibre percent in each of the Ingredients is created\n",
      "fibrePercent = {'CHICKEN': 0.001,\n",
      "                'BEEF': 0.005,\n",
      "                'MUTTON': 0.003,\n",
      "                'RICE': 0.100,\n",
      "                'WHEAT': 0.150,\n",
      "                'GEL': 0.000}\n",
      "\n",
      "# A dictionary of the salt percent in each of the Ingredients is created\n",
      "saltPercent = {'CHICKEN': 0.002,\n",
      "               'BEEF': 0.005,\n",
      "               'MUTTON': 0.007,\n",
      "               'RICE': 0.002,\n",
      "               'WHEAT': 0.008,\n",
      "               'GEL': 0.000}"
     ],
     "language": "python",
     "metadata": {},
     "outputs": [],
     "prompt_number": 3
    },
    {
     "cell_type": "code",
     "collapsed": false,
     "input": [
      "prob = pulp.LpProblem(\"The Whiskas Problem\", pulp.LpMinimize)"
     ],
     "language": "python",
     "metadata": {},
     "outputs": [],
     "prompt_number": 4
    },
    {
     "cell_type": "code",
     "collapsed": false,
     "input": [
      "# A dictionary called 'ingredient_vars' is created to contain the referenced Variables\n",
      "ingredient_vars = pulp.LpVariable.dicts(\"Ingr\",Ingredients,0)\n",
      "\n",
      "# The objective function is added to 'prob' first\n",
      "prob += pulp.lpSum([costs[i]*ingredient_vars[i] for i in Ingredients]), \"Total Cost of Ingredients per can\"\n",
      "\n",
      "# The five constraints are added to 'prob'\n",
      "prob += pulp.lpSum([ingredient_vars[i] for i in Ingredients]) == 100, \"PercentagesSum\"\n",
      "prob += pulp.lpSum([proteinPercent[i] * ingredient_vars[i] for i in Ingredients]) >= 8.0, \"ProteinRequirement\"\n",
      "prob += pulp.lpSum([fatPercent[i] * ingredient_vars[i] for i in Ingredients]) >= 6.0, \"FatRequirement\"\n",
      "prob += pulp.lpSum([fibrePercent[i] * ingredient_vars[i] for i in Ingredients]) <= 2.0, \"FibreRequirement\"\n",
      "prob += pulp.lpSum([saltPercent[i] * ingredient_vars[i] for i in Ingredients]) <= 0.4, \"SaltRequirement\""
     ],
     "language": "python",
     "metadata": {},
     "outputs": [],
     "prompt_number": 6
    },
    {
     "cell_type": "code",
     "collapsed": false,
     "input": [
      "prob.solve()"
     ],
     "language": "python",
     "metadata": {},
     "outputs": [
      {
       "metadata": {},
       "output_type": "pyout",
       "prompt_number": 7,
       "text": [
        "1"
       ]
      }
     ],
     "prompt_number": 7
    },
    {
     "cell_type": "code",
     "collapsed": false,
     "input": [
      "pulp.LpStatus[prob.status]"
     ],
     "language": "python",
     "metadata": {},
     "outputs": [
      {
       "metadata": {},
       "output_type": "pyout",
       "prompt_number": 9,
       "text": [
        "'Optimal'"
       ]
      }
     ],
     "prompt_number": 9
    },
    {
     "cell_type": "code",
     "collapsed": false,
     "input": [
      "prob.constraints.items()"
     ],
     "language": "python",
     "metadata": {},
     "outputs": [
      {
       "metadata": {},
       "output_type": "pyout",
       "prompt_number": 23,
       "text": [
        "[('PercentagesSum', 1*BeefPercent + 1*ChickenPercent + -100 = 0),\n",
        " ('ProteinRequirement', 0.2*BeefPercent + 0.1*ChickenPercent + -8.0 >= 0),\n",
        " ('FatRequirement', 0.1*BeefPercent + 0.08*ChickenPercent + -6.0 >= 0),\n",
        " ('FibreRequirement', 0.005*BeefPercent + 0.001*ChickenPercent + -2.0 <= 0),\n",
        " ('SaltRequirement', 0.005*BeefPercent + 0.002*ChickenPercent + -0.4 <= 0)]"
       ]
      }
     ],
     "prompt_number": 23
    },
    {
     "cell_type": "code",
     "collapsed": false,
     "input": [
      "for v in prob.variables():\n",
      "    print v.name"
     ],
     "language": "python",
     "metadata": {},
     "outputs": []
    }
   ],
   "metadata": {}
  }
 ]
}