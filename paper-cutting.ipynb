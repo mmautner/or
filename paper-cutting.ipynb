{
 "metadata": {
  "name": "",
  "signature": "sha256:a568e2072b5c4023353c7df870a34241eb2017c05188d2851f444efc5b083d63"
 },
 "nbformat": 3,
 "nbformat_minor": 0,
 "worksheets": [
  {
   "cells": [
    {
     "cell_type": "code",
     "collapsed": false,
     "input": [
      "import pulp\n",
      "from pprint import pprint"
     ],
     "language": "python",
     "metadata": {},
     "outputs": [],
     "prompt_number": 41
    },
    {
     "cell_type": "code",
     "collapsed": false,
     "input": [
      "prob = pulp.LpProblem(\"The Paper-cutting problem\", pulp.LpMinimize)\n",
      "x1 = pulp.LpVariable(\"1x1x0x1\", 0)\n",
      "x2 = pulp.LpVariable(\"0x0x2x0\", 0)\n",
      "x3 = pulp.LpVariable(\"0x3x0x0\", 0)"
     ],
     "language": "python",
     "metadata": {},
     "outputs": [],
     "prompt_number": 65
    },
    {
     "cell_type": "code",
     "collapsed": false,
     "input": [
      "# objective\n",
      "prob += x1 + x2 + x3, \"Total Number of Rolls to Fulfill the Orders\"\n",
      "# constraints\n",
      "prob += x1 >= 211, 'min 14\" orders'\n",
      "prob += x1 + x3*3 >= 395, 'min 31\" orders'\n",
      "prob += 2*x2 >= 610, 'min 36\" orders'\n",
      "prob += x1 >= 97, 'min 45\" orders'"
     ],
     "language": "python",
     "metadata": {},
     "outputs": [],
     "prompt_number": 66
    },
    {
     "cell_type": "code",
     "collapsed": false,
     "input": [
      "prob.solve()"
     ],
     "language": "python",
     "metadata": {},
     "outputs": [
      {
       "metadata": {},
       "output_type": "pyout",
       "prompt_number": 67,
       "text": [
        "1"
       ]
      }
     ],
     "prompt_number": 67
    },
    {
     "cell_type": "code",
     "collapsed": false,
     "input": [
      "for v in prob.variables():\n",
      "    print v.name, '=', v.varValue"
     ],
     "language": "python",
     "metadata": {},
     "outputs": [
      {
       "output_type": "stream",
       "stream": "stdout",
       "text": [
        "0x0x2x0 = 305.0\n",
        "0x3x0x0 = 61.333333\n",
        "1x1x0x1 = 211.0\n"
       ]
      }
     ],
     "prompt_number": 68
    },
    {
     "cell_type": "code",
     "collapsed": false,
     "input": [
      "print 'Total # of rolls required: ', sum([v.varValue for v in prob.variables()])"
     ],
     "language": "python",
     "metadata": {},
     "outputs": [
      {
       "output_type": "stream",
       "stream": "stdout",
       "text": [
        "Total # of rolls required:  577.333333\n"
       ]
      }
     ],
     "prompt_number": 69
    }
   ],
   "metadata": {}
  }
 ]
}