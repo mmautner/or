{
 "metadata": {
  "name": "",
  "signature": "sha256:e5b4d1ae298b0491b07c1deb9ac0ce62b900abcc1234dff22c585e09102a67d9"
 },
 "nbformat": 3,
 "nbformat_minor": 0,
 "worksheets": [
  {
   "cells": [
    {
     "cell_type": "code",
     "collapsed": false,
     "input": [
      "import pulp\n",
      "from pprint import pprint"
     ],
     "language": "python",
     "metadata": {},
     "outputs": [],
     "prompt_number": 1
    },
    {
     "cell_type": "code",
     "collapsed": false,
     "input": [
      "# The 2 variables Beef and Chicken are created with a lower limit of zero\n",
      "x1 = pulp.LpVariable(\"ChickenPercent\", 0)\n",
      "x2 = pulp.LpVariable(\"BeefPercent\", 0)"
     ],
     "language": "python",
     "metadata": {},
     "outputs": [],
     "prompt_number": 2
    },
    {
     "cell_type": "code",
     "collapsed": false,
     "input": [
      "prob = pulp.LpProblem(\"The Whiskas Problem\", pulp.LpMinimize)"
     ],
     "language": "python",
     "metadata": {},
     "outputs": [],
     "prompt_number": 3
    },
    {
     "cell_type": "code",
     "collapsed": false,
     "input": [
      "# The objective function is added to 'prob' first\n",
      "prob += 0.013*x1 + 0.008*x2, \"Total Cost of Ingredients per can\""
     ],
     "language": "python",
     "metadata": {},
     "outputs": [],
     "prompt_number": 4
    },
    {
     "cell_type": "code",
     "collapsed": false,
     "input": [
      "# The five constraints are entered\n",
      "prob += x1 + x2 == 100, \"PercentagesSum\"\n",
      "prob += 0.100*x1 + 0.200*x2 >= 8.0, \"ProteinRequirement\"\n",
      "prob += 0.080*x1 + 0.100*x2 >= 6.0, \"FatRequirement\"\n",
      "prob += 0.001*x1 + 0.005*x2 <= 2.0, \"FibreRequirement\"\n",
      "prob += 0.002*x1 + 0.005*x2 <= 0.4, \"SaltRequirement\""
     ],
     "language": "python",
     "metadata": {},
     "outputs": [],
     "prompt_number": 5
    },
    {
     "cell_type": "code",
     "collapsed": false,
     "input": [
      "prob.objective"
     ],
     "language": "python",
     "metadata": {},
     "outputs": [
      {
       "metadata": {},
       "output_type": "pyout",
       "prompt_number": 9,
       "text": [
        "0.008*BeefPercent + 0.013*ChickenPercent + 0.0"
       ]
      }
     ],
     "prompt_number": 9
    },
    {
     "cell_type": "code",
     "collapsed": false,
     "input": [
      "prob.constraints.items()"
     ],
     "language": "python",
     "metadata": {},
     "outputs": [
      {
       "metadata": {},
       "output_type": "pyout",
       "prompt_number": 8,
       "text": [
        "[('PercentagesSum', 1*BeefPercent + 1*ChickenPercent + -100 = 0),\n",
        " ('ProteinRequirement', 0.2*BeefPercent + 0.1*ChickenPercent + -8.0 >= 0),\n",
        " ('FatRequirement', 0.1*BeefPercent + 0.08*ChickenPercent + -6.0 >= 0),\n",
        " ('FibreRequirement', 0.005*BeefPercent + 0.001*ChickenPercent + -2.0 <= 0),\n",
        " ('SaltRequirement', 0.005*BeefPercent + 0.002*ChickenPercent + -0.4 <= 0)]"
       ]
      }
     ],
     "prompt_number": 8
    },
    {
     "cell_type": "code",
     "collapsed": false,
     "input": [
      "prob.solve()"
     ],
     "language": "python",
     "metadata": {},
     "outputs": [
      {
       "metadata": {},
       "output_type": "pyout",
       "prompt_number": 7,
       "text": [
        "1"
       ]
      }
     ],
     "prompt_number": 7
    },
    {
     "cell_type": "code",
     "collapsed": false,
     "input": [
      "pulp.LpStatus[prob.status]"
     ],
     "language": "python",
     "metadata": {},
     "outputs": [
      {
       "metadata": {},
       "output_type": "pyout",
       "prompt_number": 9,
       "text": [
        "'Optimal'"
       ]
      }
     ],
     "prompt_number": 9
    },
    {
     "cell_type": "code",
     "collapsed": false,
     "input": [
      "prob.constraints.items()"
     ],
     "language": "python",
     "metadata": {},
     "outputs": [
      {
       "metadata": {},
       "output_type": "pyout",
       "prompt_number": 23,
       "text": [
        "[('PercentagesSum', 1*BeefPercent + 1*ChickenPercent + -100 = 0),\n",
        " ('ProteinRequirement', 0.2*BeefPercent + 0.1*ChickenPercent + -8.0 >= 0),\n",
        " ('FatRequirement', 0.1*BeefPercent + 0.08*ChickenPercent + -6.0 >= 0),\n",
        " ('FibreRequirement', 0.005*BeefPercent + 0.001*ChickenPercent + -2.0 <= 0),\n",
        " ('SaltRequirement', 0.005*BeefPercent + 0.002*ChickenPercent + -0.4 <= 0)]"
       ]
      }
     ],
     "prompt_number": 23
    },
    {
     "cell_type": "code",
     "collapsed": false,
     "input": [
      "for v in prob.variables():\n",
      "    print v.name, '=', v.varValue"
     ],
     "language": "python",
     "metadata": {},
     "outputs": [
      {
       "output_type": "stream",
       "stream": "stdout",
       "text": [
        "BeefPercent = 66.666667\n",
        "ChickenPercent = 33.333333\n"
       ]
      }
     ],
     "prompt_number": 24
    }
   ],
   "metadata": {}
  }
 ]
}